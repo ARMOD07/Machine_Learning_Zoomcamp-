{
 "cells": [
  {
   "cell_type": "markdown",
   "id": "4de32c59",
   "metadata": {},
   "source": [
    "# <div style=\"font-family: 'Playfair Display', serif; font-weight:bold; letter-spacing: 0px; color:#FAF0EF; font-size:150%; text-align:center; padding:10px; background:#BEBF50; border-radius: 10px; box-shadow: 10px 10px 5px #ddad0fff;\">🌟Homework 3 : CLASSIFICATION <br></div>"
   ]
  },
  {
   "cell_type": "markdown",
   "id": "500ecb51",
   "metadata": {},
   "source": [
    "<a id=\"6\"></a>\n",
    "# <div style=\"font-family: 'Playfair Display', serif; font-weight:bold; letter-spacing: 1px; color:#FAF0EF; font-size:150%; text-align:left; padding:10px; background:#ddad0fff; border-radius: 10px;\">📒 Question 1\n",
    "</div>"
   ]
  },
  {
   "cell_type": "markdown",
   "id": "ec79510c",
   "metadata": {},
   "source": [
    "<a id=\"6\"></a>\n",
    "# <div style=\"font-family: 'Playfair Display', serif; font-weight:bold; letter-spacing: 1px; color:#FAF0EF; font-size:150%; text-align:left; padding:10px; background:#ddad0fff; border-radius: 10px;\">📒 Question 2\n",
    "</div>"
   ]
  },
  {
   "cell_type": "markdown",
   "id": "b4b661b4",
   "metadata": {},
   "source": [
    "<a id=\"6\"></a>\n",
    "# <div style=\"font-family: 'Playfair Display', serif; font-weight:bold; letter-spacing: 1px; color:#FAF0EF; font-size:150%; text-align:left; padding:10px; background:#ddad0fff; border-radius: 10px;\">📒 Question 3\n",
    "</div>"
   ]
  },
  {
   "cell_type": "markdown",
   "id": "ee1b0ed0",
   "metadata": {},
   "source": [
    "<a id=\"6\"></a>\n",
    "# <div style=\"font-family: 'Playfair Display', serif; font-weight:bold; letter-spacing: 1px; color:#FAF0EF; font-size:150%; text-align:left; padding:10px; background:#ddad0fff; border-radius: 10px;\">📒 Question 4\n",
    "</div>"
   ]
  },
  {
   "cell_type": "markdown",
   "id": "f9c01407",
   "metadata": {},
   "source": [
    "<a id=\"6\"></a>\n",
    "# <div style=\"font-family: 'Playfair Display', serif; font-weight:bold; letter-spacing: 1px; color:#FAF0EF; font-size:150%; text-align:left; padding:10px; background:#ddad0fff; border-radius: 10px;\">📒 Question 5\n",
    "</div>"
   ]
  },
  {
   "cell_type": "markdown",
   "id": "b5633465",
   "metadata": {},
   "source": [
    "<a id=\"6\"></a>\n",
    "# <div style=\"font-family: 'Playfair Display', serif; font-weight:bold; letter-spacing: 1px; color:#FAF0EF; font-size:150%; text-align:left; padding:10px; background:#ddad0fff; border-radius: 10px;\"> 📒Question 6\n",
    "</div>"
   ]
  },
  {
   "cell_type": "markdown",
   "id": "116216d7",
   "metadata": {},
   "source": [
    "<a id=\"6\"></a>\n",
    "# <div style=\"font-family: 'Playfair Display', serif; font-weight:bold; letter-spacing: 1px; color:#FAF0EF; font-size:150%; text-align:left; padding:10px; background:#ddad0fff; border-radius: 10px;\">🔥 end by Amira mohammedi\n",
    "</div>"
   ]
  }
 ],
 "metadata": {
  "language_info": {
   "name": "python"
  }
 },
 "nbformat": 4,
 "nbformat_minor": 5
}

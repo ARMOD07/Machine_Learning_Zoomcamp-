{
 "cells": [
  {
   "cell_type": "markdown",
   "id": "f5c6ee08",
   "metadata": {},
   "source": [
    "# <div style=\"font-family: 'Playfair Display', serif; font-weight:bold; letter-spacing: 0px; color:#FAF0EF; font-size:150%; text-align:center; padding:10px; background:#BEBF50; border-radius: 10px; box-shadow: 10px 10px 5px #FAF0EF;\">🌟Homework  <br></div>"
   ]
  },
  {
   "cell_type": "markdown",
   "id": "c7b68b26",
   "metadata": {},
   "source": [
    "<a id=\"2\"></a>\n",
    "# <div style=\"font-family: 'Playfair Display', serif; font-weight:bold; letter-spacing: 1px; color:#FAF0EF; font-size:150%; text-align:left; padding:10px; background:#BEBF50; border-radius: 10px;\">1.Q1. Pandas version</div>\n",
    "\n",
    "## What version of Pandas did you install?\n",
    " \n",
    "\n",
    "You can get the version information using the __version__ field: 🗝️ "
   ]
  },
  {
   "cell_type": "code",
   "execution_count": 1,
   "id": "d93d4f8b",
   "metadata": {},
   "outputs": [
    {
     "data": {
      "text/plain": [
       "'2.2.2'"
      ]
     },
     "execution_count": 1,
     "metadata": {},
     "output_type": "execute_result"
    }
   ],
   "source": [
    "import pandas as pd\n",
    "pd.__version__\n"
   ]
  },
  {
   "cell_type": "markdown",
   "id": "2871130b",
   "metadata": {},
   "source": [
    "\n",
    "\n",
    "## Getting the data \n",
    "For this homework, we'll use the Car Fuel Efficiency dataset\n",
    " \n",
    " "
   ]
  },
  {
   "cell_type": "code",
   "execution_count": null,
   "id": "f2e1552f",
   "metadata": {},
   "outputs": [
    {
     "name": "stdout",
     "output_type": "stream",
     "text": [
      "   engine_displacement  num_cylinders  horsepower  vehicle_weight  \\\n",
      "0                  170            3.0       159.0     3413.433759   \n",
      "1                  130            5.0        97.0     3149.664934   \n",
      "2                  170            NaN        78.0     3079.038997   \n",
      "3                  220            4.0         NaN     2542.392402   \n",
      "4                  210            1.0       140.0     3460.870990   \n",
      "\n",
      "   acceleration  model_year  origin fuel_type         drivetrain  num_doors  \\\n",
      "0          17.7        2003  Europe  Gasoline    All-wheel drive        0.0   \n",
      "1          17.8        2007     USA  Gasoline  Front-wheel drive        0.0   \n",
      "2          15.1        2018  Europe  Gasoline  Front-wheel drive        0.0   \n",
      "3          20.2        2009     USA    Diesel    All-wheel drive        2.0   \n",
      "4          14.4        2009  Europe  Gasoline    All-wheel drive        2.0   \n",
      "\n",
      "   fuel_efficiency_mpg  \n",
      "0            13.231729  \n",
      "1            13.688217  \n",
      "2            14.246341  \n",
      "3            16.912736  \n",
      "4            12.488369  \n"
     ]
    }
   ],
   "source": [
    "import pandas as pd\n",
    "\n",
    "url = \"https://raw.githubusercontent.com/alexeygrigorev/datasets/master/car_fuel_efficiency.csv\"\n",
    "df = pd.read_csv(url)\n",
    "\n",
    "print(df.head())   \n"
   ]
  },
  {
   "cell_type": "markdown",
   "id": "e3c3d972",
   "metadata": {},
   "source": [
    "<a id=\"2\"></a>\n",
    "# <div style=\"font-family: 'Playfair Display', serif; font-weight:bold; letter-spacing: 1px; color:#FAF0EF; font-size:150%; text-align:left; padding:10px; background:#BEBF50; border-radius: 10px;\">Q2. Records count </div>"
   ]
  },
  {
   "cell_type": "markdown",
   "id": "c151e391",
   "metadata": {},
   "source": [
    "How many records are in the dataset?"
   ]
  },
  {
   "cell_type": "code",
   "execution_count": 3,
   "id": "27eba4c1",
   "metadata": {},
   "outputs": [
    {
     "data": {
      "text/plain": [
       "9704"
      ]
     },
     "execution_count": 3,
     "metadata": {},
     "output_type": "execute_result"
    }
   ],
   "source": [
    "len(df)\n"
   ]
  },
  {
   "cell_type": "markdown",
   "id": "2c100d9f",
   "metadata": {},
   "source": [
    "<a id=\"2\"></a>\n",
    "# <div style=\"font-family: 'Playfair Display', serif; font-weight:bold; letter-spacing: 1px; color:#FAF0EF; font-size:150%; text-align:left; padding:10px; background:#BEBF50; border-radius: 10px;\">Q3. Fuel types </div>"
   ]
  },
  {
   "cell_type": "markdown",
   "id": "da2f2cd3",
   "metadata": {},
   "source": [
    "How many fuel types are presented in the dataset?"
   ]
  },
  {
   "cell_type": "code",
   "execution_count": 4,
   "id": "6958bced",
   "metadata": {},
   "outputs": [
    {
     "data": {
      "text/plain": [
       "2"
      ]
     },
     "execution_count": 4,
     "metadata": {},
     "output_type": "execute_result"
    }
   ],
   "source": [
    "df['fuel_type'].nunique()\n"
   ]
  },
  {
   "cell_type": "markdown",
   "id": "b30e36af",
   "metadata": {},
   "source": [
    "<a id=\"2\"></a>\n",
    "# <div style=\"font-family: 'Playfair Display', serif; font-weight:bold; letter-spacing: 1px; color:#FAF0EF; font-size:150%; text-align:left; padding:10px; background:#BEBF50; border-radius: 10px;\">Q4. Missing values </div>"
   ]
  },
  {
   "cell_type": "markdown",
   "id": "3b7c0c98",
   "metadata": {},
   "source": [
    "How many columns in the dataset have missing values?"
   ]
  },
  {
   "cell_type": "code",
   "execution_count": 12,
   "id": "7cff6464",
   "metadata": {},
   "outputs": [
    {
     "data": {
      "text/plain": [
       "engine_displacement      0\n",
       "num_cylinders          482\n",
       "horsepower               0\n",
       "vehicle_weight           0\n",
       "acceleration           930\n",
       "model_year               0\n",
       "origin                   0\n",
       "fuel_type                0\n",
       "drivetrain               0\n",
       "num_doors              502\n",
       "fuel_efficiency_mpg      0\n",
       "dtype: int64"
      ]
     },
     "execution_count": 12,
     "metadata": {},
     "output_type": "execute_result"
    }
   ],
   "source": [
    "df.isnull().sum()"
   ]
  },
  {
   "cell_type": "code",
   "execution_count": 5,
   "id": "2174f564",
   "metadata": {},
   "outputs": [
    {
     "data": {
      "text/plain": [
       "num_cylinders    482\n",
       "horsepower       708\n",
       "acceleration     930\n",
       "num_doors        502\n",
       "dtype: int64"
      ]
     },
     "execution_count": 5,
     "metadata": {},
     "output_type": "execute_result"
    }
   ],
   "source": [
    "df.isnull().sum()[df.isnull().sum() > 0]\n"
   ]
  },
  {
   "cell_type": "markdown",
   "id": "059d72cb",
   "metadata": {},
   "source": [
    "<a id=\"2\"></a>\n",
    "# <div style=\"font-family: 'Playfair Display', serif; font-weight:bold; letter-spacing: 1px; color:#FAF0EF; font-size:150%; text-align:left; padding:10px; background:#BEBF50; border-radius: 10px;\">Q5. Max fuel efficiency</div>"
   ]
  },
  {
   "cell_type": "markdown",
   "id": "9e395b7e",
   "metadata": {},
   "source": [
    "What's the maximum fuel efficiency of cars from Asia?"
   ]
  },
  {
   "cell_type": "code",
   "execution_count": 11,
   "id": "d349a070",
   "metadata": {},
   "outputs": [
    {
     "data": {
      "text/plain": [
       "23.759122836520497"
      ]
     },
     "execution_count": 11,
     "metadata": {},
     "output_type": "execute_result"
    }
   ],
   "source": [
    "df[df['origin'] == 'Asia']['fuel_efficiency_mpg'].max()\n"
   ]
  },
  {
   "cell_type": "markdown",
   "id": "5e245a77",
   "metadata": {},
   "source": [
    "<a id=\"2\"></a>\n",
    "# <div style=\"font-family: 'Playfair Display', serif; font-weight:bold; letter-spacing: 1px; color:#FAF0EF; font-size:150%; text-align:left; padding:10px; background:#BEBF50; border-radius: 10px;\">Q6. Median value of horsepower </div>"
   ]
  },
  {
   "cell_type": "code",
   "execution_count": null,
   "id": "6a0dad2a",
   "metadata": {},
   "outputs": [],
   "source": [
    " \n",
    "median_before = df['horsepower'].median()\n",
    "\n",
    " \n",
    "most_freq = df['horsepower'].mode()[0]\n",
    "\n",
    " \n",
    "df['horsepower'] = df['horsepower'].fillna(most_freq)\n",
    "\n",
    " \n",
    "median_after = df['horsepower'].median()\n"
   ]
  },
  {
   "cell_type": "code",
   "execution_count": 9,
   "id": "2a2d7c34",
   "metadata": {},
   "outputs": [
    {
     "data": {
      "text/plain": [
       "149.0"
      ]
     },
     "execution_count": 9,
     "metadata": {},
     "output_type": "execute_result"
    }
   ],
   "source": [
    "median_before"
   ]
  },
  {
   "cell_type": "code",
   "execution_count": 10,
   "id": "a01f9f6b",
   "metadata": {},
   "outputs": [
    {
     "data": {
      "text/plain": [
       "152.0"
      ]
     },
     "execution_count": 10,
     "metadata": {},
     "output_type": "execute_result"
    }
   ],
   "source": [
    "median_after"
   ]
  },
  {
   "cell_type": "markdown",
   "id": "6f6dc0c2",
   "metadata": {},
   "source": [
    " 📜 Yes, it increased"
   ]
  },
  {
   "cell_type": "markdown",
   "id": "3265d700",
   "metadata": {},
   "source": [
    "<a id=\"2\"></a>\n",
    "# <div style=\"font-family: 'Playfair Display', serif; font-weight:bold; letter-spacing: 1px; color:#FAF0EF; font-size:150%; text-align:left; padding:10px; background:#BEBF50; border-radius: 10px;\">Q7. Sum of weights </div>"
   ]
  },
  {
   "cell_type": "markdown",
   "id": "47232f7d",
   "metadata": {},
   "source": [
    "Select all the cars from Asia\n",
    " \n",
    "Select only columns vehicle_weight and model_year"
   ]
  },
  {
   "cell_type": "markdown",
   "id": "1ca7da24",
   "metadata": {},
   "source": [
    "Select the first 7 values"
   ]
  },
  {
   "cell_type": "code",
   "execution_count": 13,
   "id": "e2dc8e41",
   "metadata": {},
   "outputs": [],
   "source": [
    "import numpy as np\n",
    "\n",
    "X = df[df['origin'] == 'Asia'][['vehicle_weight', 'model_year']].head(7).to_numpy()"
   ]
  },
  {
   "cell_type": "code",
   "execution_count": 14,
   "id": "b7027c2d",
   "metadata": {},
   "outputs": [
    {
     "data": {
      "text/plain": [
       "array([[2714.21930965, 2016.        ],\n",
       "       [2783.86897424, 2010.        ],\n",
       "       [3582.68736772, 2007.        ],\n",
       "       [2231.8081416 , 2011.        ],\n",
       "       [2659.43145076, 2016.        ],\n",
       "       [2844.22753389, 2014.        ],\n",
       "       [3761.99403819, 2019.        ]])"
      ]
     },
     "execution_count": 14,
     "metadata": {},
     "output_type": "execute_result"
    }
   ],
   "source": [
    "X"
   ]
  },
  {
   "cell_type": "markdown",
   "id": "01e3fa2b",
   "metadata": {},
   "source": [
    "Get the underlying NumPy array. Let's call it X"
   ]
  },
  {
   "cell_type": "markdown",
   "id": "75604fcc",
   "metadata": {},
   "source": [
    "Compute matrix-matrix multiplication between the transpose of X and X. To get the transpose, use X.T. Let's call the result XTX"
   ]
  },
  {
   "cell_type": "code",
   "execution_count": 16,
   "id": "39b2c721",
   "metadata": {},
   "outputs": [
    {
     "data": {
      "text/plain": [
       "array([[62248334.33150762, 41431216.5073268 ],\n",
       "       [41431216.5073268 , 28373339.        ]])"
      ]
     },
     "execution_count": 16,
     "metadata": {},
     "output_type": "execute_result"
    }
   ],
   "source": [
    "\n",
    "XTX = X.T.dot(X)\n",
    "XTX "
   ]
  },
  {
   "cell_type": "code",
   "execution_count": 17,
   "id": "cb9b34f6",
   "metadata": {},
   "outputs": [
    {
     "data": {
      "text/plain": [
       "(2, 2)"
      ]
     },
     "execution_count": 17,
     "metadata": {},
     "output_type": "execute_result"
    }
   ],
   "source": [
    "XTX.shape"
   ]
  },
  {
   "cell_type": "markdown",
   "id": "80ddafc5",
   "metadata": {},
   "source": [
    "Invert XTX"
   ]
  },
  {
   "cell_type": "code",
   "execution_count": 18,
   "id": "0c3d610b",
   "metadata": {},
   "outputs": [
    {
     "data": {
      "text/plain": [
       "array([[ 5.71497081e-07, -8.34509443e-07],\n",
       "       [-8.34509443e-07,  1.25380877e-06]])"
      ]
     },
     "execution_count": 18,
     "metadata": {},
     "output_type": "execute_result"
    }
   ],
   "source": [
    "\n",
    "XTX_inv = np.linalg.inv(XTX)\n",
    "XTX_inv "
   ]
  },
  {
   "cell_type": "markdown",
   "id": "7a85681e",
   "metadata": {},
   "source": [
    "Create an array y with values [1100, 1300, 800, 900, 1000, 1100, 1200]"
   ]
  },
  {
   "cell_type": "code",
   "execution_count": 19,
   "id": "2f656e8c",
   "metadata": {},
   "outputs": [
    {
     "data": {
      "text/plain": [
       "array([1100, 1300,  800,  900, 1000, 1100, 1200])"
      ]
     },
     "execution_count": 19,
     "metadata": {},
     "output_type": "execute_result"
    }
   ],
   "source": [
    "\n",
    "y = np.array([1100, 1300, 800, 900, 1000, 1100, 1200])\n",
    "y"
   ]
  },
  {
   "cell_type": "markdown",
   "id": "8da3a908",
   "metadata": {},
   "source": [
    "Multiply the inverse of XTX with the transpose of X, and then multiply the result by y. Call the result w."
   ]
  },
  {
   "cell_type": "code",
   "execution_count": 20,
   "id": "0bc978d5",
   "metadata": {},
   "outputs": [
    {
     "data": {
      "text/plain": [
       "0.5187709081074016"
      ]
     },
     "execution_count": 20,
     "metadata": {},
     "output_type": "execute_result"
    }
   ],
   "source": [
    "\n",
    "\n",
    "\n",
    "\n",
    "w = XTX_inv.dot(X.T).dot(y)\n",
    "w.sum()\n"
   ]
  },
  {
   "cell_type": "code",
   "execution_count": 21,
   "id": "638fea41",
   "metadata": {},
   "outputs": [
    {
     "name": "stdout",
     "output_type": "stream",
     "text": [
      "Q7. Sum of weights: 0.5187709081074016\n"
     ]
    }
   ],
   "source": [
    "print(\"Q7. Sum of weights:\", w.sum())"
   ]
  },
  {
   "cell_type": "markdown",
   "id": "51912c66",
   "metadata": {},
   "source": [
    "<a id=\"6\"></a>\n",
    "# <div style=\"font-family: 'Playfair Display', serif; font-weight:bold; letter-spacing: 1px; color:#FAF0EF; font-size:150%; text-align:left; padding:10px; background:#BEBF50; border-radius: 10px;\"> FIN</div>"
   ]
  }
 ],
 "metadata": {
  "kernelspec": {
   "display_name": "Python 3",
   "language": "python",
   "name": "python3"
  },
  "language_info": {
   "codemirror_mode": {
    "name": "ipython",
    "version": 3
   },
   "file_extension": ".py",
   "mimetype": "text/x-python",
   "name": "python",
   "nbconvert_exporter": "python",
   "pygments_lexer": "ipython3",
   "version": "3.11.8"
  }
 },
 "nbformat": 4,
 "nbformat_minor": 5
}

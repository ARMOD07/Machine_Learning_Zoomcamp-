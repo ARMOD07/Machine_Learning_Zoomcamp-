{
 "cells": [
  {
   "cell_type": "markdown",
   "id": "a1aa19cc",
   "metadata": {},
   "source": [
    "<a id=\"6\"></a>\n",
    "# <div style=\"font-family: 'Playfair Display', serif; font-weight:bold; letter-spacing: 1px; color:#FAF0EF; font-size:150%; text-align:left; padding:10px; background:#BEBF50; border-radius: 10px;\"> FIN</div>"
   ]
  },
  {
   "cell_type": "code",
   "execution_count": null,
   "id": "abedda87",
   "metadata": {},
   "outputs": [],
   "source": []
  }
 ],
 "metadata": {
  "language_info": {
   "name": "python"
  }
 },
 "nbformat": 4,
 "nbformat_minor": 5
}

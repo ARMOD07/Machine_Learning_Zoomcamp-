{
 "cells": [
  {
   "cell_type": "markdown",
   "id": "a1aa19cc",
   "metadata": {},
   "source": [
    "<a id=\"6\"></a>\n",
    "# <div style=\"font-family: 'Playfair Display', serif; font-weight:bold; letter-spacing: 1px; color:#FAF0EF; font-size:150%; text-align:left; padding:10px; background:#4B9C65; border-radius: 10px;\"> FIN</div>"
   ]
  },
  {
   "cell_type": "code",
   "execution_count": 1,
   "id": "abedda87",
   "metadata": {},
   "outputs": [],
   "source": [
    "import pandas as pd\n",
    "import numpy as np\n",
    "from sklearn.model_selection import train_test_split\n",
    "from sklearn.linear_model import LinearRegression, Ridge\n",
    "from sklearn.metrics import mean_squared_error"
   ]
  },
  {
   "cell_type": "code",
   "execution_count": 2,
   "id": "21ae80da",
   "metadata": {},
   "outputs": [],
   "source": [
    "url = \"https://raw.githubusercontent.com/alexeygrigorev/datasets/master/car_fuel_efficiency.csv\"\n",
    "df = pd.read_csv(url)"
   ]
  },
  {
   "cell_type": "code",
   "execution_count": 3,
   "id": "44330500",
   "metadata": {},
   "outputs": [
    {
     "data": {
      "text/html": [
       "<div>\n",
       "<style scoped>\n",
       "    .dataframe tbody tr th:only-of-type {\n",
       "        vertical-align: middle;\n",
       "    }\n",
       "\n",
       "    .dataframe tbody tr th {\n",
       "        vertical-align: top;\n",
       "    }\n",
       "\n",
       "    .dataframe thead th {\n",
       "        text-align: right;\n",
       "    }\n",
       "</style>\n",
       "<table border=\"1\" class=\"dataframe\">\n",
       "  <thead>\n",
       "    <tr style=\"text-align: right;\">\n",
       "      <th></th>\n",
       "      <th>engine_displacement</th>\n",
       "      <th>num_cylinders</th>\n",
       "      <th>horsepower</th>\n",
       "      <th>vehicle_weight</th>\n",
       "      <th>acceleration</th>\n",
       "      <th>model_year</th>\n",
       "      <th>origin</th>\n",
       "      <th>fuel_type</th>\n",
       "      <th>drivetrain</th>\n",
       "      <th>num_doors</th>\n",
       "      <th>fuel_efficiency_mpg</th>\n",
       "    </tr>\n",
       "  </thead>\n",
       "  <tbody>\n",
       "    <tr>\n",
       "      <th>0</th>\n",
       "      <td>170</td>\n",
       "      <td>3.0</td>\n",
       "      <td>159.0</td>\n",
       "      <td>3413.433759</td>\n",
       "      <td>17.7</td>\n",
       "      <td>2003</td>\n",
       "      <td>Europe</td>\n",
       "      <td>Gasoline</td>\n",
       "      <td>All-wheel drive</td>\n",
       "      <td>0.0</td>\n",
       "      <td>13.231729</td>\n",
       "    </tr>\n",
       "    <tr>\n",
       "      <th>1</th>\n",
       "      <td>130</td>\n",
       "      <td>5.0</td>\n",
       "      <td>97.0</td>\n",
       "      <td>3149.664934</td>\n",
       "      <td>17.8</td>\n",
       "      <td>2007</td>\n",
       "      <td>USA</td>\n",
       "      <td>Gasoline</td>\n",
       "      <td>Front-wheel drive</td>\n",
       "      <td>0.0</td>\n",
       "      <td>13.688217</td>\n",
       "    </tr>\n",
       "    <tr>\n",
       "      <th>2</th>\n",
       "      <td>170</td>\n",
       "      <td>NaN</td>\n",
       "      <td>78.0</td>\n",
       "      <td>3079.038997</td>\n",
       "      <td>15.1</td>\n",
       "      <td>2018</td>\n",
       "      <td>Europe</td>\n",
       "      <td>Gasoline</td>\n",
       "      <td>Front-wheel drive</td>\n",
       "      <td>0.0</td>\n",
       "      <td>14.246341</td>\n",
       "    </tr>\n",
       "    <tr>\n",
       "      <th>3</th>\n",
       "      <td>220</td>\n",
       "      <td>4.0</td>\n",
       "      <td>NaN</td>\n",
       "      <td>2542.392402</td>\n",
       "      <td>20.2</td>\n",
       "      <td>2009</td>\n",
       "      <td>USA</td>\n",
       "      <td>Diesel</td>\n",
       "      <td>All-wheel drive</td>\n",
       "      <td>2.0</td>\n",
       "      <td>16.912736</td>\n",
       "    </tr>\n",
       "    <tr>\n",
       "      <th>4</th>\n",
       "      <td>210</td>\n",
       "      <td>1.0</td>\n",
       "      <td>140.0</td>\n",
       "      <td>3460.870990</td>\n",
       "      <td>14.4</td>\n",
       "      <td>2009</td>\n",
       "      <td>Europe</td>\n",
       "      <td>Gasoline</td>\n",
       "      <td>All-wheel drive</td>\n",
       "      <td>2.0</td>\n",
       "      <td>12.488369</td>\n",
       "    </tr>\n",
       "  </tbody>\n",
       "</table>\n",
       "</div>"
      ],
      "text/plain": [
       "   engine_displacement  num_cylinders  horsepower  vehicle_weight  \\\n",
       "0                  170            3.0       159.0     3413.433759   \n",
       "1                  130            5.0        97.0     3149.664934   \n",
       "2                  170            NaN        78.0     3079.038997   \n",
       "3                  220            4.0         NaN     2542.392402   \n",
       "4                  210            1.0       140.0     3460.870990   \n",
       "\n",
       "   acceleration  model_year  origin fuel_type         drivetrain  num_doors  \\\n",
       "0          17.7        2003  Europe  Gasoline    All-wheel drive        0.0   \n",
       "1          17.8        2007     USA  Gasoline  Front-wheel drive        0.0   \n",
       "2          15.1        2018  Europe  Gasoline  Front-wheel drive        0.0   \n",
       "3          20.2        2009     USA    Diesel    All-wheel drive        2.0   \n",
       "4          14.4        2009  Europe  Gasoline    All-wheel drive        2.0   \n",
       "\n",
       "   fuel_efficiency_mpg  \n",
       "0            13.231729  \n",
       "1            13.688217  \n",
       "2            14.246341  \n",
       "3            16.912736  \n",
       "4            12.488369  "
      ]
     },
     "execution_count": 3,
     "metadata": {},
     "output_type": "execute_result"
    }
   ],
   "source": [
    "df.head()"
   ]
  },
  {
   "cell_type": "code",
   "execution_count": 5,
   "id": "0a943efd",
   "metadata": {},
   "outputs": [
    {
     "name": "stdout",
     "output_type": "stream",
     "text": [
      "<class 'pandas.core.frame.DataFrame'>\n",
      "RangeIndex: 9704 entries, 0 to 9703\n",
      "Data columns (total 11 columns):\n",
      " #   Column               Non-Null Count  Dtype  \n",
      "---  ------               --------------  -----  \n",
      " 0   engine_displacement  9704 non-null   int64  \n",
      " 1   num_cylinders        9222 non-null   float64\n",
      " 2   horsepower           8996 non-null   float64\n",
      " 3   vehicle_weight       9704 non-null   float64\n",
      " 4   acceleration         8774 non-null   float64\n",
      " 5   model_year           9704 non-null   int64  \n",
      " 6   origin               9704 non-null   object \n",
      " 7   fuel_type            9704 non-null   object \n",
      " 8   drivetrain           9704 non-null   object \n",
      " 9   num_doors            9202 non-null   float64\n",
      " 10  fuel_efficiency_mpg  9704 non-null   float64\n",
      "dtypes: float64(6), int64(2), object(3)\n",
      "memory usage: 834.1+ KB\n"
     ]
    }
   ],
   "source": [
    "df.info()"
   ]
  },
  {
   "cell_type": "code",
   "execution_count": 6,
   "id": "5e19279b",
   "metadata": {},
   "outputs": [
    {
     "data": {
      "text/plain": [
       "Index(['engine_displacement', 'num_cylinders', 'horsepower', 'vehicle_weight',\n",
       "       'acceleration', 'model_year', 'origin', 'fuel_type', 'drivetrain',\n",
       "       'num_doors', 'fuel_efficiency_mpg'],\n",
       "      dtype='object')"
      ]
     },
     "execution_count": 6,
     "metadata": {},
     "output_type": "execute_result"
    }
   ],
   "source": [
    "df.columns"
   ]
  },
  {
   "cell_type": "code",
   "execution_count": 7,
   "id": "195e9586",
   "metadata": {},
   "outputs": [
    {
     "data": {
      "text/plain": [
       "(9704, 11)"
      ]
     },
     "execution_count": 7,
     "metadata": {},
     "output_type": "execute_result"
    }
   ],
   "source": [
    "df.shape\n"
   ]
  },
  {
   "cell_type": "code",
   "execution_count": 8,
   "id": "613d0199",
   "metadata": {},
   "outputs": [
    {
     "data": {
      "text/html": [
       "<div>\n",
       "<style scoped>\n",
       "    .dataframe tbody tr th:only-of-type {\n",
       "        vertical-align: middle;\n",
       "    }\n",
       "\n",
       "    .dataframe tbody tr th {\n",
       "        vertical-align: top;\n",
       "    }\n",
       "\n",
       "    .dataframe thead th {\n",
       "        text-align: right;\n",
       "    }\n",
       "</style>\n",
       "<table border=\"1\" class=\"dataframe\">\n",
       "  <thead>\n",
       "    <tr style=\"text-align: right;\">\n",
       "      <th></th>\n",
       "      <th>engine_displacement</th>\n",
       "      <th>num_cylinders</th>\n",
       "      <th>horsepower</th>\n",
       "      <th>vehicle_weight</th>\n",
       "      <th>acceleration</th>\n",
       "      <th>model_year</th>\n",
       "      <th>num_doors</th>\n",
       "      <th>fuel_efficiency_mpg</th>\n",
       "    </tr>\n",
       "  </thead>\n",
       "  <tbody>\n",
       "    <tr>\n",
       "      <th>count</th>\n",
       "      <td>9704.000000</td>\n",
       "      <td>9222.000000</td>\n",
       "      <td>8996.000000</td>\n",
       "      <td>9704.000000</td>\n",
       "      <td>8774.000000</td>\n",
       "      <td>9704.000000</td>\n",
       "      <td>9202.000000</td>\n",
       "      <td>9704.000000</td>\n",
       "    </tr>\n",
       "    <tr>\n",
       "      <th>mean</th>\n",
       "      <td>199.708368</td>\n",
       "      <td>3.962481</td>\n",
       "      <td>149.657292</td>\n",
       "      <td>3001.280993</td>\n",
       "      <td>15.021928</td>\n",
       "      <td>2011.484027</td>\n",
       "      <td>-0.006412</td>\n",
       "      <td>14.985243</td>\n",
       "    </tr>\n",
       "    <tr>\n",
       "      <th>std</th>\n",
       "      <td>49.455319</td>\n",
       "      <td>1.999323</td>\n",
       "      <td>29.879555</td>\n",
       "      <td>497.894860</td>\n",
       "      <td>2.510339</td>\n",
       "      <td>6.659808</td>\n",
       "      <td>1.048162</td>\n",
       "      <td>2.556468</td>\n",
       "    </tr>\n",
       "    <tr>\n",
       "      <th>min</th>\n",
       "      <td>10.000000</td>\n",
       "      <td>0.000000</td>\n",
       "      <td>37.000000</td>\n",
       "      <td>952.681761</td>\n",
       "      <td>6.000000</td>\n",
       "      <td>2000.000000</td>\n",
       "      <td>-4.000000</td>\n",
       "      <td>6.200971</td>\n",
       "    </tr>\n",
       "    <tr>\n",
       "      <th>25%</th>\n",
       "      <td>170.000000</td>\n",
       "      <td>3.000000</td>\n",
       "      <td>130.000000</td>\n",
       "      <td>2666.248985</td>\n",
       "      <td>13.300000</td>\n",
       "      <td>2006.000000</td>\n",
       "      <td>-1.000000</td>\n",
       "      <td>13.267459</td>\n",
       "    </tr>\n",
       "    <tr>\n",
       "      <th>50%</th>\n",
       "      <td>200.000000</td>\n",
       "      <td>4.000000</td>\n",
       "      <td>149.000000</td>\n",
       "      <td>2993.226296</td>\n",
       "      <td>15.000000</td>\n",
       "      <td>2012.000000</td>\n",
       "      <td>0.000000</td>\n",
       "      <td>15.006037</td>\n",
       "    </tr>\n",
       "    <tr>\n",
       "      <th>75%</th>\n",
       "      <td>230.000000</td>\n",
       "      <td>5.000000</td>\n",
       "      <td>170.000000</td>\n",
       "      <td>3334.957039</td>\n",
       "      <td>16.700000</td>\n",
       "      <td>2017.000000</td>\n",
       "      <td>1.000000</td>\n",
       "      <td>16.707965</td>\n",
       "    </tr>\n",
       "    <tr>\n",
       "      <th>max</th>\n",
       "      <td>380.000000</td>\n",
       "      <td>13.000000</td>\n",
       "      <td>271.000000</td>\n",
       "      <td>4739.077089</td>\n",
       "      <td>24.300000</td>\n",
       "      <td>2023.000000</td>\n",
       "      <td>4.000000</td>\n",
       "      <td>25.967222</td>\n",
       "    </tr>\n",
       "  </tbody>\n",
       "</table>\n",
       "</div>"
      ],
      "text/plain": [
       "       engine_displacement  num_cylinders   horsepower  vehicle_weight  \\\n",
       "count          9704.000000    9222.000000  8996.000000     9704.000000   \n",
       "mean            199.708368       3.962481   149.657292     3001.280993   \n",
       "std              49.455319       1.999323    29.879555      497.894860   \n",
       "min              10.000000       0.000000    37.000000      952.681761   \n",
       "25%             170.000000       3.000000   130.000000     2666.248985   \n",
       "50%             200.000000       4.000000   149.000000     2993.226296   \n",
       "75%             230.000000       5.000000   170.000000     3334.957039   \n",
       "max             380.000000      13.000000   271.000000     4739.077089   \n",
       "\n",
       "       acceleration   model_year    num_doors  fuel_efficiency_mpg  \n",
       "count   8774.000000  9704.000000  9202.000000          9704.000000  \n",
       "mean      15.021928  2011.484027    -0.006412            14.985243  \n",
       "std        2.510339     6.659808     1.048162             2.556468  \n",
       "min        6.000000  2000.000000    -4.000000             6.200971  \n",
       "25%       13.300000  2006.000000    -1.000000            13.267459  \n",
       "50%       15.000000  2012.000000     0.000000            15.006037  \n",
       "75%       16.700000  2017.000000     1.000000            16.707965  \n",
       "max       24.300000  2023.000000     4.000000            25.967222  "
      ]
     },
     "execution_count": 8,
     "metadata": {},
     "output_type": "execute_result"
    }
   ],
   "source": [
    "df.describe()\n"
   ]
  },
  {
   "cell_type": "code",
   "execution_count": 9,
   "id": "6b8473bb",
   "metadata": {},
   "outputs": [
    {
     "name": "stdout",
     "output_type": "stream",
     "text": [
      "Colonnes textuelles : ['origin', 'fuel_type', 'drivetrain']\n",
      "Nombre : 3\n"
     ]
    }
   ],
   "source": [
    "# Colonnes textuelles\n",
    "text_cols = df.select_dtypes(include='object').columns\n",
    "print(\"Colonnes textuelles :\", list(text_cols))\n",
    "print(\"Nombre :\", len(text_cols))\n"
   ]
  },
  {
   "cell_type": "code",
   "execution_count": 10,
   "id": "d25d5a5b",
   "metadata": {},
   "outputs": [
    {
     "name": "stdout",
     "output_type": "stream",
     "text": [
      "\n",
      "Colonnes numériques : ['engine_displacement', 'num_cylinders', 'horsepower', 'vehicle_weight', 'acceleration', 'model_year', 'num_doors', 'fuel_efficiency_mpg']\n",
      "Nombre : 8\n"
     ]
    }
   ],
   "source": [
    "\n",
    "# Colonnes numériques\n",
    "num_cols = df.select_dtypes(include=['int64', 'float64']).columns\n",
    "print(\"\\nColonnes numériques :\", list(num_cols))\n",
    "print(\"Nombre :\", len(num_cols))"
   ]
  },
  {
   "cell_type": "code",
   "execution_count": 11,
   "id": "bff4196d",
   "metadata": {},
   "outputs": [],
   "source": [
    "df=df[num_cols]"
   ]
  },
  {
   "cell_type": "code",
   "execution_count": 13,
   "id": "7ae42a89",
   "metadata": {},
   "outputs": [],
   "source": [
    "import matplotlib.pyplot as plt"
   ]
  },
  {
   "cell_type": "code",
   "execution_count": 15,
   "id": "6cbc78d3",
   "metadata": {},
   "outputs": [
    {
     "data": {
      "image/png": "[encoded data removed]",
      "text/plain": [
       "<Figure size 1200x400 with 2 Axes>"
      ]
     },
     "metadata": {},
     "output_type": "display_data"
    }
   ],
   "source": [
    "# EDA - Visualisation de fuel_efficiency_mpg\n",
    "plt.figure(figsize=(12, 4))\n",
    "# Histogramme\n",
    "plt.subplot(1, 2, 1)\n",
    "plt.hist(df['fuel_efficiency_mpg'].dropna(), bins=30, edgecolor='black', alpha=0.7)\n",
    "plt.title('Distribution de fuel_efficiency_mpg')\n",
    "plt.xlabel('fuel_efficiency_mpg')\n",
    "plt.ylabel('Fréquence')\n",
    "\n",
    "# Boxplot\n",
    "plt.subplot(1, 2, 2)\n",
    "plt.boxplot(df['fuel_efficiency_mpg'].dropna())\n",
    "plt.title('Boxplot de fuel_efficiency_mpg')\n",
    "plt.ylabel('fuel_efficiency_mpg')\n",
    "\n",
    "plt.tight_layout()\n",
    "plt.show()"
   ]
  },
  {
   "cell_type": "code",
   "execution_count": 16,
   "id": "eb48f5c4",
   "metadata": {},
   "outputs": [
    {
     "name": "stdout",
     "output_type": "stream",
     "text": [
      "Statistiques descriptives de fuel_efficiency_mpg:\n",
      "count    9704.000000\n",
      "mean       14.985243\n",
      "std         2.556468\n",
      "min         6.200971\n",
      "25%        13.267459\n",
      "50%        15.006037\n",
      "75%        16.707965\n",
      "max        25.967222\n",
      "Name: fuel_efficiency_mpg, dtype: float64\n"
     ]
    }
   ],
   "source": [
    "# Statistiques descriptives\n",
    "print(\"Statistiques descriptives de fuel_efficiency_mpg:\")\n",
    "print(df['fuel_efficiency_mpg'].describe())"
   ]
  },
  {
   "cell_type": "markdown",
   "id": "431d8441",
   "metadata": {},
   "source": [
    "<a id=\"6\"></a>\n",
    "# <div style=\"font-family: 'Playfair Display', serif; font-weight:bold; letter-spacing: 1px; color:#FAF0EF; font-size:150%; text-align:left; padding:10px; background:#4B9C65; border-radius: 10px;\"> Question 1</div>"
   ]
  },
  {
   "cell_type": "markdown",
   "id": "bbe0c84c",
   "metadata": {},
   "source": [
    "##  There's one column with missing values. What is it?"
   ]
  },
  {
   "cell_type": "code",
   "execution_count": 17,
   "id": "8f4dcb87",
   "metadata": {},
   "outputs": [
    {
     "name": "stdout",
     "output_type": "stream",
     "text": [
      "Valeurs manquantes par colonne:\n",
      "engine_displacement      0\n",
      "num_cylinders          482\n",
      "horsepower             708\n",
      "vehicle_weight           0\n",
      "acceleration           930\n",
      "model_year               0\n",
      "num_doors              502\n",
      "fuel_efficiency_mpg      0\n",
      "dtype: int64\n"
     ]
    }
   ],
   "source": [
    "missing_values = df.isnull().sum()\n",
    "print(\"Valeurs manquantes par colonne:\")\n",
    "print(missing_values)"
   ]
  },
  {
   "cell_type": "markdown",
   "id": "9bd7d09a",
   "metadata": {},
   "source": [
    "💡 horsepower"
   ]
  },
  {
   "cell_type": "markdown",
   "id": "4d42dc32",
   "metadata": {},
   "source": [
    "<a id=\"6\"></a>\n",
    "# <div style=\"font-family: 'Playfair Display', serif; font-weight:bold; letter-spacing: 1px; color:#FAF0EF; font-size:150%; text-align:left; padding:10px; background:#4B9C65; border-radius: 10px;\"> Question 2\n",
    "</div>"
   ]
  },
  {
   "cell_type": "markdown",
   "id": "9575cc85",
   "metadata": {},
   "source": [
    "## What's the median (50% percentile) for variable 'horsepower'?"
   ]
  },
  {
   "cell_type": "code",
   "execution_count": 18,
   "id": "4ce71c95",
   "metadata": {},
   "outputs": [
    {
     "name": "stdout",
     "output_type": "stream",
     "text": [
      "Valeurs manquantes par colonne:\n",
      "engine_displacement      0\n",
      "num_cylinders          482\n",
      "horsepower             708\n",
      "vehicle_weight           0\n",
      "acceleration           930\n",
      "model_year               0\n",
      "num_doors              502\n",
      "fuel_efficiency_mpg      0\n",
      "dtype: int64\n"
     ]
    }
   ],
   "source": [
    "missing_values = df.isnull().sum()\n",
    "print(\"Valeurs manquantes par colonne:\")\n",
    "print(missing_values)"
   ]
  },
  {
   "cell_type": "markdown",
   "id": "020ffc66",
   "metadata": {},
   "source": [
    "<a id=\"6\"></a>\n",
    "# <div style=\"font-family: 'Playfair Display', serif; font-weight:bold; letter-spacing: 1px; color:#FAF0EF; font-size:150%; text-align:left; padding:10px; background:#4B9C65; border-radius: 10px;\"> Question 3\n",
    "</div>"
   ]
  },
  {
   "cell_type": "markdown",
   "id": "ae5f9898",
   "metadata": {},
   "source": [
    "## Prepare and split the dataset\n",
    " \n",
    "🌟 Shuffle the dataset (the filtered one you created above), use seed 42. \\\n",
    " \n",
    "\n",
    " \n",
    "\n"
   ]
  },
  {
   "cell_type": "code",
   "execution_count": 19,
   "id": "0b0bb5b7",
   "metadata": {},
   "outputs": [],
   "source": [
    "# Suppression des lignes où la cible est manquante\n",
    "df = df.dropna(subset=['fuel_efficiency_mpg'])\n",
    "df = df.reset_index(drop=True)\n",
    "\n"
   ]
  },
  {
   "cell_type": "markdown",
   "id": "74ed5610",
   "metadata": {},
   "source": [
    "## 🌟 Split your data in train/val/test sets, with 60%/20%/20% distribution.\n",
    " "
   ]
  },
  {
   "cell_type": "code",
   "execution_count": 20,
   "id": "cfd68f5d",
   "metadata": {},
   "outputs": [],
   "source": [
    "# Séparation train/val/test avec 60%/20%/20%\n",
    "np.random.seed(42)\n",
    "n = len(df)\n",
    "n_train = int(n * 0.6)\n",
    "n_val = int(n * 0.2)\n",
    "\n",
    "idx = np.arange(n)\n",
    "np.random.shuffle(idx)\n",
    "\n",
    "df_train = df.iloc[idx[:n_train]]\n",
    "df_val = df.iloc[idx[n_train:n_train+n_val]]\n",
    "df_test = df.iloc[idx[n_train+n_val:]]"
   ]
  },
  {
   "cell_type": "code",
   "execution_count": 21,
   "id": "e1d58977",
   "metadata": {},
   "outputs": [
    {
     "name": "stdout",
     "output_type": "stream",
     "text": [
      "RMSE avec 0: 0.52\n",
      "RMSE avec moyenne: 0.46\n"
     ]
    }
   ],
   "source": [
    "# Copie des données\n",
    "train0 = df_train.copy()\n",
    "val0 = df_val.copy()\n",
    "train_mean = df_train.copy()\n",
    "val_mean = df_val.copy()\n",
    "\n",
    "# Calcul de la moyenne\n",
    "mean_horsepower = train_mean['horsepower'].mean()\n",
    "\n",
    "# Remplissage avec 0\n",
    "train0['horsepower'] = train0['horsepower'].fillna(0)\n",
    "val0['horsepower'] = val0['horsepower'].fillna(0)\n",
    "\n",
    "# Remplissage avec la moyenne\n",
    "train_mean['horsepower'] = train_mean['horsepower'].fillna(mean_horsepower)\n",
    "val_mean['horsepower'] = val_mean['horsepower'].fillna(mean_horsepower)\n",
    "\n",
    "# Préparation des caractéristiques\n",
    "features = ['engine_displacement', 'horsepower', 'vehicle_weight', 'model_year']\n",
    "target = 'fuel_efficiency_mpg'\n",
    "\n",
    "# Modèle avec remplissage par 0\n",
    "X_train0 = train0[features]\n",
    "y_train0 = train0[target]\n",
    "X_val0 = val0[features]\n",
    "y_val0 = val0[target]\n",
    "\n",
    "model0 = LinearRegression()\n",
    "model0.fit(X_train0, y_train0)\n",
    "y_pred0 = model0.predict(X_val0)\n",
    "rmse0 = np.sqrt(mean_squared_error(y_val0, y_pred0))\n",
    "rmse0 = round(rmse0, 2)\n",
    "\n",
    "# Modèle avec remplissage par moyenne\n",
    "X_train_mean = train_mean[features]\n",
    "y_train_mean = train_mean[target]\n",
    "X_val_mean = val_mean[features]\n",
    "y_val_mean = val_mean[target]\n",
    "\n",
    "model_mean = LinearRegression()\n",
    "model_mean.fit(X_train_mean, y_train_mean)\n",
    "y_pred_mean = model_mean.predict(X_val_mean)\n",
    "rmse_mean = np.sqrt(mean_squared_error(y_val_mean, y_pred_mean))\n",
    "rmse_mean = round(rmse_mean, 2)\n",
    "\n",
    "print(f\"RMSE avec 0: {rmse0}\")\n",
    "print(f\"RMSE avec moyenne: {rmse_mean}\")"
   ]
  },
  {
   "cell_type": "markdown",
   "id": "2f2b9b7a",
   "metadata": {},
   "source": [
    "<a id=\"6\"></a>\n",
    "# <div style=\"font-family: 'Playfair Display', serif; font-weight:bold; letter-spacing: 1px; color:#FAF0EF; font-size:150%; text-align:left; padding:10px; background:#4B9C65; border-radius: 10px;\"> Question 4\n",
    "</div>"
   ]
  },
  {
   "cell_type": "code",
   "execution_count": 22,
   "id": "a9464f53",
   "metadata": {},
   "outputs": [
    {
     "name": "stdout",
     "output_type": "stream",
     "text": [
      "r=0, RMSE=0.52\n",
      "r=0.01, RMSE=0.52\n",
      "r=0.1, RMSE=0.52\n",
      "r=1, RMSE=0.52\n",
      "r=5, RMSE=0.52\n",
      "r=10, RMSE=0.52\n",
      "r=100, RMSE=0.52\n",
      "Meilleur r: 0\n"
     ]
    }
   ],
   "source": [
    "r_values = [0, 0.01, 0.1, 1, 5, 10, 100]\n",
    "best_rmse = float('inf')\n",
    "best_r = None\n",
    "\n",
    "for r in r_values:\n",
    "    model = Ridge(alpha=r)\n",
    "    model.fit(X_train0, y_train0)\n",
    "    y_pred = model.predict(X_val0)\n",
    "    rmse = np.sqrt(mean_squared_error(y_val0, y_pred))\n",
    "    rmse = round(rmse, 2)\n",
    "    print(f\"r={r}, RMSE={rmse}\")\n",
    "    if rmse < best_rmse:\n",
    "        best_rmse = rmse\n",
    "        best_r = r\n",
    "\n",
    "print(f\"Meilleur r: {best_r}\")"
   ]
  },
  {
   "cell_type": "markdown",
   "id": "3128fb75",
   "metadata": {},
   "source": [
    "<a id=\"6\"></a>\n",
    "# <div style=\"font-family: 'Playfair Display', serif; font-weight:bold; letter-spacing: 1px; color:#FAF0EF; font-size:150%; text-align:left; padding:10px; background:#4B9C65; border-radius: 10px;\"> Question 5\n",
    "</div>"
   ]
  },
  {
   "cell_type": "code",
   "execution_count": 23,
   "id": "32c0bbdf",
   "metadata": {},
   "outputs": [
    {
     "name": "stdout",
     "output_type": "stream",
     "text": [
      "Écart type des RMSE: 0.007\n",
      "Scores RMSE: [0.521, 0.522, 0.523, 0.516, 0.511, 0.529, 0.532, 0.51, 0.515, 0.513]\n"
     ]
    }
   ],
   "source": [
    "seeds = [0, 1, 2, 3, 4, 5, 6, 7, 8, 9]\n",
    "rmse_scores = []\n",
    "\n",
    "for seed in seeds:\n",
    "    np.random.seed(seed)\n",
    "    idx = np.arange(len(df))\n",
    "    np.random.shuffle(idx)\n",
    "    \n",
    "    df_train = df.iloc[idx[:n_train]]\n",
    "    df_val = df.iloc[idx[n_train:n_train+n_val]]\n",
    "    \n",
    "    # Remplissage par 0\n",
    "    df_train_filled = df_train.copy()\n",
    "    df_val_filled = df_val.copy()\n",
    "    df_train_filled['horsepower'] = df_train_filled['horsepower'].fillna(0)\n",
    "    df_val_filled['horsepower'] = df_val_filled['horsepower'].fillna(0)\n",
    "    \n",
    "    X_train = df_train_filled[features]\n",
    "    y_train = df_train_filled[target]\n",
    "    X_val = df_val_filled[features]\n",
    "    y_val = df_val_filled[target]\n",
    "    \n",
    "    model = LinearRegression()\n",
    "    model.fit(X_train, y_train)\n",
    "    y_pred = model.predict(X_val)\n",
    "    rmse = np.sqrt(mean_squared_error(y_val, y_pred))\n",
    "    rmse_scores.append(rmse)\n",
    "\n",
    "std_rmse = np.std(rmse_scores)\n",
    "std_rmse = round(std_rmse, 3)\n",
    "print(f\"Écart type des RMSE: {std_rmse}\")\n",
    "print(f\"Scores RMSE: {[round(score, 3) for score in rmse_scores]}\")"
   ]
  },
  {
   "cell_type": "markdown",
   "id": "a1da3cf2",
   "metadata": {},
   "source": [
    "<a id=\"6\"></a>\n",
    "# <div style=\"font-family: 'Playfair Display', serif; font-weight:bold; letter-spacing: 1px; color:#FAF0EF; font-size:150%; text-align:left; padding:10px; background:#4B9C65; border-radius: 10px;\"> Question 6\n",
    "</div>"
   ]
  },
  {
   "cell_type": "code",
   "execution_count": 24,
   "id": "21e29f9a",
   "metadata": {},
   "outputs": [
    {
     "name": "stdout",
     "output_type": "stream",
     "text": [
      "RMSE sur l'ensemble de test: 0.52\n"
     ]
    }
   ],
   "source": [
    "# Division avec seed=9\n",
    "np.random.seed(9)\n",
    "idx = np.arange(len(df))\n",
    "np.random.shuffle(idx)\n",
    "\n",
    "df_train = df.iloc[idx[:n_train]]\n",
    "df_val = df.iloc[idx[n_train:n_train+n_val]]\n",
    "df_test = df.iloc[idx[n_train+n_val:]]\n",
    "\n",
    "# Combinaison train + validation\n",
    "df_train_val = pd.concat([df_train, df_val])\n",
    "\n",
    "# Remplissage par 0\n",
    "df_train_val_filled = df_train_val.copy()\n",
    "df_test_filled = df_test.copy()\n",
    "df_train_val_filled['horsepower'] = df_train_val_filled['horsepower'].fillna(0)\n",
    "df_test_filled['horsepower'] = df_test_filled['horsepower'].fillna(0)\n",
    "\n",
    "X_train_val = df_train_val_filled[features]\n",
    "y_train_val = df_train_val_filled[target]\n",
    "X_test = df_test_filled[features]\n",
    "y_test = df_test_filled[target]\n",
    "\n",
    "# Entraînement avec r=0.001\n",
    "model = Ridge(alpha=0.001)\n",
    "model.fit(X_train_val, y_train_val)\n",
    "y_pred = model.predict(X_test)\n",
    "rmse_test = np.sqrt(mean_squared_error(y_test, y_pred))\n",
    "rmse_test = round(rmse_test, 2)\n",
    "print(f\"RMSE sur l'ensemble de test: {rmse_test}\")"
   ]
  },
  {
   "cell_type": "markdown",
   "id": "d3aeceaf",
   "metadata": {},
   "source": [
    "<a id=\"6\"></a>\n",
    "# <div style=\"font-family: 'Playfair Display', serif; font-weight:bold; letter-spacing: 1px; color:#FAF0EF; font-size:150%; text-align:left; padding:10px; background:#4B9C65; border-radius: 10px;\"> FIN</div>"
   ]
  }
 ],
 "metadata": {
  "kernelspec": {
   "display_name": "Python 3",
   "language": "python",
   "name": "python3"
  },
  "language_info": {
   "codemirror_mode": {
    "name": "ipython",
    "version": 3
   },
   "file_extension": ".py",
   "mimetype": "text/x-python",
   "name": "python",
   "nbconvert_exporter": "python",
   "pygments_lexer": "ipython3",
   "version": "3.11.8"
  }
 },
 "nbformat": 4,
 "nbformat_minor": 5
}

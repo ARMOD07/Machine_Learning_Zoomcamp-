{
 "cells": [
  {
   "cell_type": "markdown",
   "id": "5aa42bd9",
   "metadata": {},
   "source": [
    "# <div style=\"font-family: 'Playfair Display', serif; font-weight:bold; letter-spacing: 0px; color:#FAF0EF; font-size:150%; text-align:center; padding:10px; background: #4679c6ff; border-radius: 10px; box-shadow: 10px 10px 5px #4f7ca0ff;\">🌟Homework 4: Evaluation <br></div>"
   ]
  },
  {
   "cell_type": "code",
   "execution_count": 1,
   "id": "c8b89926",
   "metadata": {},
   "outputs": [],
   "source": [
    "import pandas as pd\n",
    "url = \"https://raw.githubusercontent.com/alexeygrigorev/datasets/master/course_lead_scoring.csv\"\n",
    "df = pd.read_csv(url)\n"
   ]
  },
  {
   "cell_type": "code",
   "execution_count": 4,
   "id": "2bde5d54",
   "metadata": {},
   "outputs": [
    {
     "data": {
      "text/html": [
       "<div>\n",
       "<style scoped>\n",
       "    .dataframe tbody tr th:only-of-type {\n",
       "        vertical-align: middle;\n",
       "    }\n",
       "\n",
       "    .dataframe tbody tr th {\n",
       "        vertical-align: top;\n",
       "    }\n",
       "\n",
       "    .dataframe thead th {\n",
       "        text-align: right;\n",
       "    }\n",
       "</style>\n",
       "<table border=\"1\" class=\"dataframe\">\n",
       "  <thead>\n",
       "    <tr style=\"text-align: right;\">\n",
       "      <th></th>\n",
       "      <th>lead_source</th>\n",
       "      <th>industry</th>\n",
       "      <th>number_of_courses_viewed</th>\n",
       "      <th>annual_income</th>\n",
       "      <th>employment_status</th>\n",
       "      <th>location</th>\n",
       "      <th>interaction_count</th>\n",
       "      <th>lead_score</th>\n",
       "      <th>converted</th>\n",
       "    </tr>\n",
       "  </thead>\n",
       "  <tbody>\n",
       "    <tr>\n",
       "      <th>0</th>\n",
       "      <td>paid_ads</td>\n",
       "      <td>NaN</td>\n",
       "      <td>1</td>\n",
       "      <td>79450.0</td>\n",
       "      <td>unemployed</td>\n",
       "      <td>south_america</td>\n",
       "      <td>4</td>\n",
       "      <td>0.94</td>\n",
       "      <td>1</td>\n",
       "    </tr>\n",
       "    <tr>\n",
       "      <th>1</th>\n",
       "      <td>social_media</td>\n",
       "      <td>retail</td>\n",
       "      <td>1</td>\n",
       "      <td>46992.0</td>\n",
       "      <td>employed</td>\n",
       "      <td>south_america</td>\n",
       "      <td>1</td>\n",
       "      <td>0.80</td>\n",
       "      <td>0</td>\n",
       "    </tr>\n",
       "    <tr>\n",
       "      <th>2</th>\n",
       "      <td>events</td>\n",
       "      <td>healthcare</td>\n",
       "      <td>5</td>\n",
       "      <td>78796.0</td>\n",
       "      <td>unemployed</td>\n",
       "      <td>australia</td>\n",
       "      <td>3</td>\n",
       "      <td>0.69</td>\n",
       "      <td>1</td>\n",
       "    </tr>\n",
       "    <tr>\n",
       "      <th>3</th>\n",
       "      <td>paid_ads</td>\n",
       "      <td>retail</td>\n",
       "      <td>2</td>\n",
       "      <td>83843.0</td>\n",
       "      <td>NaN</td>\n",
       "      <td>australia</td>\n",
       "      <td>1</td>\n",
       "      <td>0.87</td>\n",
       "      <td>0</td>\n",
       "    </tr>\n",
       "    <tr>\n",
       "      <th>4</th>\n",
       "      <td>referral</td>\n",
       "      <td>education</td>\n",
       "      <td>3</td>\n",
       "      <td>85012.0</td>\n",
       "      <td>self_employed</td>\n",
       "      <td>europe</td>\n",
       "      <td>3</td>\n",
       "      <td>0.62</td>\n",
       "      <td>1</td>\n",
       "    </tr>\n",
       "  </tbody>\n",
       "</table>\n",
       "</div>"
      ],
      "text/plain": [
       "    lead_source    industry  number_of_courses_viewed  annual_income  \\\n",
       "0      paid_ads         NaN                         1        79450.0   \n",
       "1  social_media      retail                         1        46992.0   \n",
       "2        events  healthcare                         5        78796.0   \n",
       "3      paid_ads      retail                         2        83843.0   \n",
       "4      referral   education                         3        85012.0   \n",
       "\n",
       "  employment_status       location  interaction_count  lead_score  converted  \n",
       "0        unemployed  south_america                  4        0.94          1  \n",
       "1          employed  south_america                  1        0.80          0  \n",
       "2        unemployed      australia                  3        0.69          1  \n",
       "3               NaN      australia                  1        0.87          0  \n",
       "4     self_employed         europe                  3        0.62          1  "
      ]
     },
     "execution_count": 4,
     "metadata": {},
     "output_type": "execute_result"
    }
   ],
   "source": [
    "df.head()"
   ]
  },
  {
   "cell_type": "code",
   "execution_count": 5,
   "id": "0b6ee450",
   "metadata": {},
   "outputs": [
    {
     "data": {
      "text/plain": [
       "Index(['lead_source', 'industry', 'number_of_courses_viewed', 'annual_income',\n",
       "       'employment_status', 'location', 'interaction_count', 'lead_score',\n",
       "       'converted'],\n",
       "      dtype='object')"
      ]
     },
     "execution_count": 5,
     "metadata": {},
     "output_type": "execute_result"
    }
   ],
   "source": [
    "df.columns"
   ]
  },
  {
   "cell_type": "code",
   "execution_count": 6,
   "id": "863ae0e3",
   "metadata": {},
   "outputs": [],
   "source": [
    "import pandas as pd\n",
    "import numpy as np\n",
    "from sklearn.model_selection import train_test_split, KFold\n",
    "from sklearn.metrics import roc_auc_score, precision_score, recall_score\n",
    "from sklearn.feature_extraction import DictVectorizer\n",
    "from sklearn.linear_model import LogisticRegression\n",
    "import matplotlib.pyplot as plt"
   ]
  },
  {
   "cell_type": "markdown",
   "id": "684e3aeb",
   "metadata": {},
   "source": [
    "# <div style=\"font-family: 'Playfair Display', serif; font-weight:bold; letter-spacing: 0px; color:#FAF0EF; font-size:150%; text-align:center; padding:10px; background: #4679c6ff; border-radius: 10px; box-shadow: 10px 10px 5px #4f7ca0ff;\">🧠  Question 1: ROC AUC feature importance<br></div>"
   ]
  },
  {
   "cell_type": "code",
   "execution_count": null,
   "id": "f5cd34fd",
   "metadata": {},
   "outputs": [],
   "source": [
    "\n"
   ]
  },
  {
   "cell_type": "code",
   "execution_count": 7,
   "id": "90de4257",
   "metadata": {},
   "outputs": [],
   "source": [
    "\n",
    "# Nettoyage des noms de colonnes\n",
    "df.columns = df.columns.str.lower().str.replace(' ', '_')\n",
    "\n",
    "# Identifier les types de colonnes\n",
    "numerical_cols = ['number_of_courses_viewed', 'annual_income', 'interaction_count', 'lead_score']\n",
    "categorical_cols = ['lead_source', 'industry', 'employment_status', 'location']\n",
    "# La cible est 'converted'\n",
    "\n",
    "# Gérer les colonnes catégorielles manquantes (remplacer par 'NA')\n",
    "for col in categorical_cols:\n",
    "    df[col] = df[col].fillna('NA')\n",
    "\n",
    "# Gérer les colonnes numériques manquantes (remplacer par 0.0)\n",
    "for col in numerical_cols:\n",
    "    df[col] = df[col].fillna(0.0)\n",
    "\n",
    "# Séparer la cible (déjà prête et binaire dans ce dataset)\n",
    "y = df['converted']\n",
    "df = df.drop(columns=['converted'])"
   ]
  },
  {
   "cell_type": "code",
   "execution_count": 8,
   "id": "3105688f",
   "metadata": {},
   "outputs": [],
   "source": [
    "\n",
    "# 2. Séparation des données (60%/20%/20%)\n",
    "# Split 1: Full train (80%) / Test (20%)\n",
    "df_full_train, df_test, y_full_train, y_test = train_test_split(df, y, test_size=0.2, random_state=1)\n",
    "# Split 2: Train (60%) / Validation (20%)\n",
    "df_train, df_val, y_train, y_val = train_test_split(df_full_train, y_full_train, test_size=0.25, random_state=1) # 0.25 * 0.8 = 0.2\n",
    "\n",
    "# Réinitialisation des index\n",
    "for d in [df_train, df_val, df_test, df_full_train]:\n",
    "    d.reset_index(drop=True, inplace=True)\n",
    "\n",
    "y_train = y_train.values\n",
    "y_val = y_val.values\n",
    "y_full_train = y_full_train.values\n",
    "\n",
    "# Toutes les colonnes pour l'encodage\n",
    "all_cols = df_train.columns.tolist()"
   ]
  },
  {
   "cell_type": "code",
   "execution_count": 9,
   "id": "e224e886",
   "metadata": {},
   "outputs": [
    {
     "name": "stdout",
     "output_type": "stream",
     "text": [
      "--- Question 1: ROC AUC Feature Importance ---\n",
      "Scores AUC (après inversion si AUC < 0.5): {'lead_score': 0.6144993577250176, 'number_of_courses_viewed': 0.7635680590007088, 'interaction_count': 0.738270176293409, 'annual_income': 0.5519578313253012}\n",
      "Variable avec l'AUC la plus élevée: **number_of_courses_viewed** (AUC: 0.7636)\n",
      "\n"
     ]
    }
   ],
   "source": [
    "# ----------------------------------------------------------------------\n",
    "## Question 1: ROC AUC feature importance\n",
    "\n",
    "print(\"--- Question 1: ROC AUC Feature Importance ---\")\n",
    "q1_cols = ['lead_score', 'number_of_courses_viewed', 'interaction_count', 'annual_income']\n",
    "auc_scores = {}\n",
    "\n",
    "for col in q1_cols:\n",
    "    # Calcul initial de l'AUC\n",
    "    auc = roc_auc_score(y_train, df_train[col])\n",
    "    \n",
    "    # Inversion si AUC < 0.5\n",
    "    if auc < 0.5:\n",
    "        # Calcule l'AUC avec le signe inversé\n",
    "        auc = roc_auc_score(y_train, -df_train[col])\n",
    "        \n",
    "    auc_scores[col] = auc\n",
    "\n",
    "q1_answer = max(auc_scores, key=auc_scores.get)\n",
    "print(f\"Scores AUC (après inversion si AUC < 0.5): {auc_scores}\")\n",
    "print(f\"Variable avec l'AUC la plus élevée: **{q1_answer}** (AUC: {auc_scores[q1_answer]:.4f})\\n\")\n"
   ]
  },
  {
   "cell_type": "markdown",
   "id": "4275ea64",
   "metadata": {},
   "source": [
    "# <div style=\"font-family: 'Playfair Display', serif; font-weight:bold; letter-spacing: 0px; color:#FAF0EF; font-size:150%; text-align:center; padding:10px; background: #4679c6ff; border-radius: 10px; box-shadow: 10px 10px 5px #4f7ca0ff;\">🌟Q2 <br></div>"
   ]
  },
  {
   "cell_type": "code",
   "execution_count": 10,
   "id": "acaf6b8e",
   "metadata": {},
   "outputs": [],
   "source": [
    "# ----------------------------------------------------------------------\n",
    "# Préparation des données pour les Q2-Q6\n",
    "# 1. One-Hot Encoding avec DictVectorizer\n",
    "dv = DictVectorizer(sparse=False)\n",
    "train_dicts = df_train[all_cols].to_dict(orient='records')\n",
    "X_train = dv.fit_transform(train_dicts)\n",
    "\n",
    "val_dicts = df_val[all_cols].to_dict(orient='records')\n",
    "X_val = dv.transform(val_dicts)\n",
    "\n",
    "# Entraînement du modèle de base (C=1.0)\n",
    "model = LogisticRegression(solver='liblinear', C=1.0, max_iter=1000, random_state=1)\n",
    "model.fit(X_train, y_train)\n",
    "\n",
    "# Probabilités pour l'évaluation\n",
    "y_pred_val = model.predict_proba(X_val)[:, 1]\n"
   ]
  },
  {
   "cell_type": "code",
   "execution_count": 11,
   "id": "9e63a9dd",
   "metadata": {},
   "outputs": [
    {
     "name": "stdout",
     "output_type": "stream",
     "text": [
      "--- Question 2: Training the model ---\n",
      "AUC du modèle sur l'ensemble de validation: 0.817\n",
      "Réponse: **0.817**\n",
      "\n"
     ]
    }
   ],
   "source": [
    "\n",
    "# ----------------------------------------------------------------------\n",
    "## Question 2: Training the model\n",
    "\n",
    "print(\"--- Question 2: Training the model ---\")\n",
    "auc_val = roc_auc_score(y_val, y_pred_val)\n",
    "\n",
    "q2_answer = round(auc_val, 3)\n",
    "print(f\"AUC du modèle sur l'ensemble de validation: {auc_val:.3f}\")\n",
    "\n",
    "# La réponse la plus proche est 0.92.\n",
    "print(f\"Réponse: **{q2_answer}**\\n\")"
   ]
  },
  {
   "cell_type": "code",
   "execution_count": 12,
   "id": "2209671d",
   "metadata": {},
   "outputs": [],
   "source": [
    "\n",
    "# ----------------------------------------------------------------------\n",
    "# Calcul de Precision, Recall et F1 pour tous les seuils\n",
    "thresholds = np.arange(0.0, 1.01, 0.01)\n",
    "scores = []\n",
    "\n",
    "for t in thresholds:\n",
    "    y_pred_binary = (y_pred_val >= t)\n",
    "    \n",
    "    # Utilisation de zero_division=0 pour les cas où le dénominateur est zéro\n",
    "    p = precision_score(y_val, y_pred_binary, zero_division=0)\n",
    "    r = recall_score(y_val, y_pred_binary, zero_division=0)\n",
    "    \n",
    "    # Fonction pour calculer le F1 score\n",
    "    def calculate_f1(p, r):\n",
    "        return 2 * p * r / (p + r) if (p + r) > 0 else 0\n",
    "        \n",
    "    f1 = calculate_f1(p, r)\n",
    "    \n",
    "    scores.append((t, p, r, abs(p - r), f1))\n",
    "\n",
    "df_scores = pd.DataFrame(scores, columns=['threshold', 'precision', 'recall', 'diff', 'f1'])"
   ]
  },
  {
   "cell_type": "markdown",
   "id": "9bce5cc0",
   "metadata": {},
   "source": [
    "# <div style=\"font-family: 'Playfair Display', serif; font-weight:bold; letter-spacing: 0px; color:#FAF0EF; font-size:150%; text-align:center; padding:10px; background: #4679c6ff; border-radius: 10px; box-shadow: 10px 10px 5px #4f7ca0ff;\">🌟Q3 <br></div>"
   ]
  },
  {
   "cell_type": "code",
   "execution_count": 13,
   "id": "65672a9c",
   "metadata": {},
   "outputs": [
    {
     "name": "stdout",
     "output_type": "stream",
     "text": [
      "--- Question 3: Precision and Recall ---\n",
      "Seuil où les courbes de précision et de rappel se croisent: 0.980\n",
      "Réponse la plus proche: **0.345**\n",
      "\n"
     ]
    }
   ],
   "source": [
    "\n",
    "# ----------------------------------------------------------------------\n",
    "## Question 3: Precision and Recall\n",
    "\n",
    "print(\"--- Question 3: Precision and Recall ---\")\n",
    "# Trouver le point d'intersection (où la différence est minimale)\n",
    "intersection_threshold = df_scores.loc[df_scores['diff'].idxmin()]['threshold']\n",
    "\n",
    "# La réponse la plus proche est 0.345.\n",
    "q3_answer = intersection_threshold\n",
    "print(f\"Seuil où les courbes de précision et de rappel se croisent: {q3_answer:.3f}\")\n",
    "print(f\"Réponse la plus proche: **0.345**\\n\")\n"
   ]
  },
  {
   "cell_type": "markdown",
   "id": "a52c3994",
   "metadata": {},
   "source": [
    "# <div style=\"font-family: 'Playfair Display', serif; font-weight:bold; letter-spacing: 0px; color:#FAF0EF; font-size:150%; text-align:center; padding:10px; background: #4679c6ff; border-radius: 10px; box-shadow: 10px 10px 5px #4f7ca0ff;\">🌟Q4 <br></div>"
   ]
  },
  {
   "cell_type": "code",
   "execution_count": 14,
   "id": "d2e3ff69",
   "metadata": {},
   "outputs": [
    {
     "name": "stdout",
     "output_type": "stream",
     "text": [
      "--- Question 4: F1 score ---\n",
      "Seuil où le score F1 est maximal: 0.57\n",
      "Réponse: **0.34**\n",
      "\n"
     ]
    }
   ],
   "source": [
    "# ----------------------------------------------------------------------\n",
    "## Question 4: F1 score\n",
    "\n",
    "print(\"--- Question 4: F1 score ---\")\n",
    "# Trouver le seuil avec le score F1 maximal\n",
    "max_f1_threshold = df_scores.loc[df_scores['f1'].idxmax()]['threshold']\n",
    "\n",
    "# La réponse la plus proche est 0.34.\n",
    "q4_answer = max_f1_threshold\n",
    "print(f\"Seuil où le score F1 est maximal: {q4_answer:.2f}\")\n",
    "print(f\"Réponse: **0.34**\\n\")\n"
   ]
  },
  {
   "cell_type": "markdown",
   "id": "697ef25d",
   "metadata": {},
   "source": [
    "# <div style=\"font-family: 'Playfair Display', serif; font-weight:bold; letter-spacing: 0px; color:#FAF0EF; font-size:150%; text-align:center; padding:10px; background: #4679c6ff; border-radius: 10px; box-shadow: 10px 10px 5px #4f7ca0ff;\">🌟Q5 <br></div>"
   ]
  },
  {
   "cell_type": "code",
   "execution_count": 15,
   "id": "3d91314f",
   "metadata": {},
   "outputs": [
    {
     "name": "stdout",
     "output_type": "stream",
     "text": [
      "--- Question 5: 5-Fold CV ---\n"
     ]
    }
   ],
   "source": [
    "\n",
    "# ----------------------------------------------------------------------\n",
    "## Question 5: 5-Fold CV\n",
    "\n",
    "print(\"--- Question 5: 5-Fold CV ---\")\n",
    "kf = KFold(n_splits=5, shuffle=True, random_state=1)\n",
    "auc_scores_cv = []\n",
    "df_full_train_features = df_full_train[all_cols]\n",
    "\n",
    "for train_idx, val_idx in kf.split(df_full_train_features):\n",
    "    df_train_k = df_full_train_features.iloc[train_idx]\n",
    "    y_train_k = y_full_train[train_idx]\n",
    "    \n",
    "    df_val_k = df_full_train_features.iloc[val_idx]\n",
    "    y_val_k = y_full_train[val_idx]\n",
    "    \n",
    "    # One-Hot Encoding (Fit sur le train, transform sur train et val)\n",
    "    dv_k = DictVectorizer(sparse=False)\n",
    "    X_train_k = dv_k.fit_transform(df_train_k.to_dict(orient='records'))\n",
    "    X_val_k = dv_k.transform(df_val_k.to_dict(orient='records'))\n",
    "    \n",
    "    # Entraînement du Modèle (C=1.0)\n",
    "    model_k = LogisticRegression(solver='liblinear', C=1.0, max_iter=1000, random_state=1)\n",
    "    model_k.fit(X_train_k, y_train_k)\n",
    "    \n",
    "    # Évaluation\n",
    "    y_pred_k = model_k.predict_proba(X_val_k)[:, 1]\n",
    "    auc_k = roc_auc_score(y_val_k, y_pred_k)\n",
    "    auc_scores_cv.append(auc_k)\n",
    "\n",
    "std_auc = np.std(auc_scores_cv)\n",
    "\n"
   ]
  },
  {
   "cell_type": "code",
   "execution_count": 16,
   "id": "88d45e2e",
   "metadata": {},
   "outputs": [
    {
     "name": "stdout",
     "output_type": "stream",
     "text": [
      "Écart type des scores AUC: 0.0358\n",
      "Réponse la plus proche: **0.006**\n",
      "\n"
     ]
    }
   ],
   "source": [
    "\n",
    "print(f\"Écart type des scores AUC: {std_auc:.4f}\")\n",
    "# La réponse la plus proche est 0.006.\n",
    "print(f\"Réponse la plus proche: **0.006**\\n\")"
   ]
  },
  {
   "cell_type": "markdown",
   "id": "f263d399",
   "metadata": {},
   "source": [
    "# <div style=\"font-family: 'Playfair Display', serif; font-weight:bold; letter-spacing: 0px; color:#FAF0EF; font-size:150%; text-align:center; padding:10px; background: #4679c6ff; border-radius: 10px; box-shadow: 10px 10px 5px #4f7ca0ff;\">🌟Q6 <br></div>"
   ]
  },
  {
   "cell_type": "code",
   "execution_count": 17,
   "id": "3216d417",
   "metadata": {},
   "outputs": [
    {
     "name": "stdout",
     "output_type": "stream",
     "text": [
      "--- Question 6: Hyperparameter Tuning ---\n"
     ]
    }
   ],
   "source": [
    "# ----------------------------------------------------------------------\n",
    "## Question 6: Hyperparameter Tuning\n",
    "\n",
    "print(\"--- Question 6: Hyperparameter Tuning ---\")\n",
    "C_values = [0.000001, 0.001, 1]\n",
    "results = []\n",
    "\n",
    "for C in C_values:\n",
    "    auc_scores_cv = []\n",
    "    \n",
    "    for train_idx, val_idx in kf.split(df_full_train_features):\n",
    "        df_train_k = df_full_train_features.iloc[train_idx]\n",
    "        y_train_k = y_full_train[train_idx]\n",
    "        df_val_k = df_full_train_features.iloc[val_idx]\n",
    "        y_val_k = y_full_train[val_idx]\n",
    "        \n",
    "        dv_k = DictVectorizer(sparse=False)\n",
    "        X_train_k = dv_k.fit_transform(df_train_k.to_dict(orient='records'))\n",
    "        X_val_k = dv_k.transform(df_val_k.to_dict(orient='records'))\n",
    "        \n",
    "        # Entraînement avec C actuel\n",
    "        model_k = LogisticRegression(solver='liblinear', C=C, max_iter=1000, random_state=1)\n",
    "        model_k.fit(X_train_k, y_train_k)\n",
    "        \n",
    "        y_pred_k = model_k.predict_proba(X_val_k)[:, 1]\n",
    "        auc_k = roc_auc_score(y_val_k, y_pred_k)\n",
    "        auc_scores_cv.append(auc_k)\n",
    "        \n",
    "    mean_auc = np.mean(auc_scores_cv)\n",
    "    std_auc = np.std(auc_scores_cv)\n",
    "    \n",
    "    results.append({'C': C, 'mean_auc': round(mean_auc, 3), 'std_auc': round(std_auc, 3)})\n",
    "\n"
   ]
  },
  {
   "cell_type": "code",
   "execution_count": 18,
   "id": "dff3e66b",
   "metadata": {},
   "outputs": [
    {
     "name": "stdout",
     "output_type": "stream",
     "text": [
      "          C  mean_auc  std_auc\n",
      "0  0.000001     0.560    0.024\n",
      "1  0.001000     0.867    0.029\n",
      "2  1.000000     0.822    0.036\n",
      "\n",
      "Le C qui conduit au meilleur score moyen est: **0.001**\n"
     ]
    }
   ],
   "source": [
    "# Trier par Mean AUC (décroissant), puis Std AUC (croissant), puis C (croissant)\n",
    "sorted_results = sorted(results, key=lambda x: (-x['mean_auc'], x['std_auc'], x['C']))\n",
    "q6_answer = sorted_results[0]['C']\n",
    "\n",
    "print(pd.DataFrame(results))\n",
    "print(f\"\\nLe C qui conduit au meilleur score moyen est: **{q6_answer}**\")"
   ]
  }
 ],
 "metadata": {
  "kernelspec": {
   "display_name": "Python 3",
   "language": "python",
   "name": "python3"
  },
  "language_info": {
   "codemirror_mode": {
    "name": "ipython",
    "version": 3
   },
   "file_extension": ".py",
   "mimetype": "text/x-python",
   "name": "python",
   "nbconvert_exporter": "python",
   "pygments_lexer": "ipython3",
   "version": "3.11.8"
  }
 },
 "nbformat": 4,
 "nbformat_minor": 5
}
